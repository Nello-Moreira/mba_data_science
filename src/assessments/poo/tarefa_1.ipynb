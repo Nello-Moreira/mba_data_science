{
 "cells": [
  {
   "cell_type": "markdown",
   "metadata": {},
   "source": [
    "## Statistical analysis"
   ]
  },
  {
   "cell_type": "code",
   "execution_count": 1,
   "metadata": {},
   "outputs": [],
   "source": [
    "import pandas as pd\n",
    "import numpy as np\n",
    "from src.assessments.poo.analiseEstatistica import AnaliseEstatistica, AnaliseEstatisticaExtendida"
   ]
  },
  {
   "cell_type": "code",
   "execution_count": 2,
   "metadata": {},
   "outputs": [
    {
     "data": {
      "text/html": [
       "<div>\n",
       "<style scoped>\n",
       "    .dataframe tbody tr th:only-of-type {\n",
       "        vertical-align: middle;\n",
       "    }\n",
       "\n",
       "    .dataframe tbody tr th {\n",
       "        vertical-align: top;\n",
       "    }\n",
       "\n",
       "    .dataframe thead th {\n",
       "        text-align: right;\n",
       "    }\n",
       "</style>\n",
       "<table border=\"1\" class=\"dataframe\">\n",
       "  <thead>\n",
       "    <tr style=\"text-align: right;\">\n",
       "      <th></th>\n",
       "      <th>work_year</th>\n",
       "      <th>job_title</th>\n",
       "      <th>job_category</th>\n",
       "      <th>salary_currency</th>\n",
       "      <th>salary</th>\n",
       "      <th>salary_in_usd</th>\n",
       "      <th>employee_residence</th>\n",
       "      <th>experience_level</th>\n",
       "      <th>employment_type</th>\n",
       "      <th>work_setting</th>\n",
       "      <th>company_location</th>\n",
       "      <th>company_size</th>\n",
       "    </tr>\n",
       "  </thead>\n",
       "  <tbody>\n",
       "    <tr>\n",
       "      <th>0</th>\n",
       "      <td>2023</td>\n",
       "      <td>Data DevOps Engineer</td>\n",
       "      <td>Data Engineering</td>\n",
       "      <td>EUR</td>\n",
       "      <td>88000</td>\n",
       "      <td>95012</td>\n",
       "      <td>Germany</td>\n",
       "      <td>Mid-level</td>\n",
       "      <td>Full-time</td>\n",
       "      <td>Hybrid</td>\n",
       "      <td>Germany</td>\n",
       "      <td>L</td>\n",
       "    </tr>\n",
       "    <tr>\n",
       "      <th>1</th>\n",
       "      <td>2023</td>\n",
       "      <td>Data Architect</td>\n",
       "      <td>Data Architecture and Modeling</td>\n",
       "      <td>USD</td>\n",
       "      <td>186000</td>\n",
       "      <td>186000</td>\n",
       "      <td>United States</td>\n",
       "      <td>Senior</td>\n",
       "      <td>Full-time</td>\n",
       "      <td>In-person</td>\n",
       "      <td>United States</td>\n",
       "      <td>M</td>\n",
       "    </tr>\n",
       "    <tr>\n",
       "      <th>2</th>\n",
       "      <td>2023</td>\n",
       "      <td>Data Architect</td>\n",
       "      <td>Data Architecture and Modeling</td>\n",
       "      <td>USD</td>\n",
       "      <td>81800</td>\n",
       "      <td>81800</td>\n",
       "      <td>United States</td>\n",
       "      <td>Senior</td>\n",
       "      <td>Full-time</td>\n",
       "      <td>In-person</td>\n",
       "      <td>United States</td>\n",
       "      <td>M</td>\n",
       "    </tr>\n",
       "    <tr>\n",
       "      <th>3</th>\n",
       "      <td>2023</td>\n",
       "      <td>Data Scientist</td>\n",
       "      <td>Data Science and Research</td>\n",
       "      <td>USD</td>\n",
       "      <td>212000</td>\n",
       "      <td>212000</td>\n",
       "      <td>United States</td>\n",
       "      <td>Senior</td>\n",
       "      <td>Full-time</td>\n",
       "      <td>In-person</td>\n",
       "      <td>United States</td>\n",
       "      <td>M</td>\n",
       "    </tr>\n",
       "    <tr>\n",
       "      <th>4</th>\n",
       "      <td>2023</td>\n",
       "      <td>Data Scientist</td>\n",
       "      <td>Data Science and Research</td>\n",
       "      <td>USD</td>\n",
       "      <td>93300</td>\n",
       "      <td>93300</td>\n",
       "      <td>United States</td>\n",
       "      <td>Senior</td>\n",
       "      <td>Full-time</td>\n",
       "      <td>In-person</td>\n",
       "      <td>United States</td>\n",
       "      <td>M</td>\n",
       "    </tr>\n",
       "  </tbody>\n",
       "</table>\n",
       "</div>"
      ],
      "text/plain": [
       "   work_year             job_title                    job_category  \\\n",
       "0       2023  Data DevOps Engineer                Data Engineering   \n",
       "1       2023        Data Architect  Data Architecture and Modeling   \n",
       "2       2023        Data Architect  Data Architecture and Modeling   \n",
       "3       2023        Data Scientist       Data Science and Research   \n",
       "4       2023        Data Scientist       Data Science and Research   \n",
       "\n",
       "  salary_currency  salary  salary_in_usd employee_residence experience_level  \\\n",
       "0             EUR   88000          95012            Germany        Mid-level   \n",
       "1             USD  186000         186000      United States           Senior   \n",
       "2             USD   81800          81800      United States           Senior   \n",
       "3             USD  212000         212000      United States           Senior   \n",
       "4             USD   93300          93300      United States           Senior   \n",
       "\n",
       "  employment_type work_setting company_location company_size  \n",
       "0       Full-time       Hybrid          Germany            L  \n",
       "1       Full-time    In-person    United States            M  \n",
       "2       Full-time    In-person    United States            M  \n",
       "3       Full-time    In-person    United States            M  \n",
       "4       Full-time    In-person    United States            M  "
      ]
     },
     "execution_count": 2,
     "metadata": {},
     "output_type": "execute_result"
    }
   ],
   "source": [
    "csv_location = '/app/src/assessments/poo/jobs_in_data.csv'\n",
    "jobs_data = pd.read_csv(csv_location)\n",
    "jobs_data.head()"
   ]
  },
  {
   "cell_type": "markdown",
   "metadata": {},
   "source": [
    "### Question 1\n",
    "#### What is the shape of data? How many observations and columns are there?"
   ]
  },
  {
   "cell_type": "code",
   "execution_count": 3,
   "metadata": {},
   "outputs": [
    {
     "data": {
      "text/plain": [
       "(9355, 12)"
      ]
     },
     "execution_count": 3,
     "metadata": {},
     "output_type": "execute_result"
    }
   ],
   "source": [
    "jobs_data.shape"
   ]
  },
  {
   "cell_type": "code",
   "execution_count": 4,
   "metadata": {},
   "outputs": [
    {
     "name": "stdout",
     "output_type": "stream",
     "text": [
      "<class 'pandas.core.frame.DataFrame'>\n",
      "RangeIndex: 9355 entries, 0 to 9354\n",
      "Data columns (total 12 columns):\n",
      " #   Column              Non-Null Count  Dtype \n",
      "---  ------              --------------  ----- \n",
      " 0   work_year           9355 non-null   int64 \n",
      " 1   job_title           9355 non-null   object\n",
      " 2   job_category        9355 non-null   object\n",
      " 3   salary_currency     9355 non-null   object\n",
      " 4   salary              9355 non-null   int64 \n",
      " 5   salary_in_usd       9355 non-null   int64 \n",
      " 6   employee_residence  9355 non-null   object\n",
      " 7   experience_level    9355 non-null   object\n",
      " 8   employment_type     9355 non-null   object\n",
      " 9   work_setting        9355 non-null   object\n",
      " 10  company_location    9355 non-null   object\n",
      " 11  company_size        9355 non-null   object\n",
      "dtypes: int64(3), object(9)\n",
      "memory usage: 877.2+ KB\n"
     ]
    }
   ],
   "source": [
    "jobs_data.info()"
   ]
  },
  {
   "cell_type": "markdown",
   "metadata": {},
   "source": [
    "### Answer \n",
    "#### There are 9355 lines and 12 columns of data."
   ]
  },
  {
   "cell_type": "markdown",
   "metadata": {},
   "source": [
    "### Question 2\n",
    "#### What observations are null? And how many they are?"
   ]
  },
  {
   "cell_type": "code",
   "execution_count": 5,
   "metadata": {},
   "outputs": [
    {
     "data": {
      "text/plain": [
       "False"
      ]
     },
     "execution_count": 5,
     "metadata": {},
     "output_type": "execute_result"
    }
   ],
   "source": [
    "jobs_data.isnull().values.any()"
   ]
  },
  {
   "cell_type": "markdown",
   "metadata": {},
   "source": [
    "### Answer \n",
    "#### There are no null data."
   ]
  },
  {
   "cell_type": "markdown",
   "metadata": {},
   "source": [
    "### Question 3\n",
    "#### What is the average, the median and the standard deviation of salary and salary in usd?"
   ]
  },
  {
   "cell_type": "code",
   "execution_count": 13,
   "metadata": {},
   "outputs": [
    {
     "name": "stdout",
     "output_type": "stream",
     "text": [
      "The salary average is 149927.98129342598\n",
      "The salary median is 143860\n",
      "The salary standard deviation is 63605.435572508606\n",
      "\n",
      "The salary in usd average is 150299.4955638696\n",
      "The salary in usd median is 143000\n",
      "The salary in usd standard deviation is 63173.995270803694\n",
      "\n"
     ]
    }
   ],
   "source": [
    "def print_statistical_analysis(num_list: [float], metric_name: str):\n",
    "  statistics = AnaliseEstatisticaExtendida(num_list)\n",
    "  print(f'The {metric_name} average is {statistics.media()}')\n",
    "  print(f'The {metric_name} median is {statistics.mediana()}')\n",
    "  print(f'The {metric_name} standard deviation is {statistics.desvioPadrao()}\\n')\n",
    "\n",
    "print_statistical_analysis(jobs_data.salary, 'salary')\n",
    "print_statistical_analysis(jobs_data.salary_in_usd, 'salary in usd')"
   ]
  },
  {
   "cell_type": "markdown",
   "metadata": {},
   "source": [
    "### Answer \n",
    "#### The salary average is 149927.98129342598\n",
    "#### The salary median is 143860\n",
    "#### The salary standard deviation is 63605.435572508606\n",
    "\n",
    "#### The salary in usd average is 150299.4955638696\n",
    "#### The salary in usd median is 143000\n",
    "#### The salary in usd standard deviation is 63173.995270803694"
   ]
  },
  {
   "cell_type": "markdown",
   "metadata": {},
   "source": [
    "### Question 4\n",
    "#### What is the biggest and the smallest salary?"
   ]
  },
  {
   "cell_type": "code",
   "execution_count": 17,
   "metadata": {},
   "outputs": [
    {
     "name": "stdout",
     "output_type": "stream",
     "text": [
      "The biggest salary is 450000\n",
      "The smallest salary is 14000\n",
      "\n",
      "The biggest salary in usd is 450000\n",
      "The smallest salary in usd is 15000\n",
      "\n"
     ]
    }
   ],
   "source": [
    "def print_metric_range_analysis(num_list: [float], metric_name: str):\n",
    "  statistics = AnaliseEstatisticaExtendida(num_list)\n",
    "  print(f'The biggest {metric_name} is {statistics.maximo()}')\n",
    "  print(f'The smallest {metric_name} is {statistics.minimo()}\\n')\n",
    "\n",
    "print_metric_range_analysis(jobs_data.salary, 'salary')\n",
    "print_metric_range_analysis(jobs_data.salary_in_usd, 'salary in usd')"
   ]
  },
  {
   "cell_type": "markdown",
   "metadata": {},
   "source": [
    "### Answer \n",
    "#### The biggest salary is 450000\n",
    "#### The smallest salary is 14000\n",
    "\n",
    "#### The biggest salary in usd is 450000\n",
    "#### The smallest salary in usd is 15000"
   ]
  },
  {
   "cell_type": "markdown",
   "metadata": {},
   "source": [
    "### Question 5\n",
    "#### What is the job title and the job category with more occurrences?"
   ]
  },
  {
   "cell_type": "code",
   "execution_count": 27,
   "metadata": {},
   "outputs": [
    {
     "name": "stdout",
     "output_type": "stream",
     "text": [
      "job_title\n",
      "Data Engineer    2195\n",
      "Name: values, dtype: int64\n"
     ]
    }
   ],
   "source": [
    "def get_metric_with_more_occurrences(jobs_data, metric: str):\n",
    "  groupped_data = jobs_data.groupby(metric).count().work_year.sort_values()\n",
    "  groupped_data.name = 'values'\n",
    "  return groupped_data.loc[(groupped_data == groupped_data.max())]\n",
    "\n",
    "job_title_with_more_occurrences = get_metric_with_more_occurrences(jobs_data, 'job_title')\n",
    "print(job_title_with_more_occurrences)"
   ]
  },
  {
   "cell_type": "code",
   "execution_count": 26,
   "metadata": {},
   "outputs": [
    {
     "name": "stdout",
     "output_type": "stream",
     "text": [
      "job_category\n",
      "Data Science and Research    3014\n",
      "Name: values, dtype: int64\n"
     ]
    }
   ],
   "source": [
    "job_category_with_more_occurrences = get_metric_with_more_occurrences(jobs_data, 'job_category')\n",
    "print(job_category_with_more_occurrences)"
   ]
  },
  {
   "cell_type": "markdown",
   "metadata": {},
   "source": [
    "### Answer \n",
    "#### The job title with more occurrences is Data Engineer\n",
    "#### and the job category with more occurrences is Data Science and Research"
   ]
  }
 ],
 "metadata": {
  "kernelspec": {
   "display_name": "Python 3 (ipykernel)",
   "language": "python",
   "name": "python3"
  },
  "language_info": {
   "codemirror_mode": {
    "name": "ipython",
    "version": 3
   },
   "file_extension": ".py",
   "mimetype": "text/x-python",
   "name": "python",
   "nbconvert_exporter": "python",
   "pygments_lexer": "ipython3",
   "version": "3.12.1"
  }
 },
 "nbformat": 4,
 "nbformat_minor": 2
}
